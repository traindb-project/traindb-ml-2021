{
 "cells": [
  {
   "cell_type": "code",
   "execution_count": 1,
   "id": "exterior-colorado",
   "metadata": {},
   "outputs": [],
   "source": [
    "from dbestclient.executor.executor import SqlExecutor\n",
    "%matplotlib widget"
   ]
  },
  {
   "cell_type": "markdown",
   "id": "moderate-steal",
   "metadata": {},
   "source": [
    "## Parameter Initialization"
   ]
  },
  {
   "cell_type": "code",
   "execution_count": 2,
   "id": "expressed-sullivan",
   "metadata": {},
   "outputs": [
    {
     "name": "stdout",
     "output_type": "stream",
     "text": [
      "Local mode is on, as no slaves are provided.\n",
      "start loading pre-existing models.\n",
      "Loaded 6 models. time cost  0.284143 s\n",
      "OK, csv_split_char is updated.\n",
      "OK, encoder is updated.\n",
      "OK, n_epoch is updated.\n",
      "OK, table_header is updated.\n"
     ]
    }
   ],
   "source": [
    "sqlExecutor = SqlExecutor()\n",
    "sqlExecutor.execute(\"set csv_split_char='|'\")\n",
    "sqlExecutor.execute(\"set encoder='embedding'\")\n",
    "sqlExecutor.execute(\"set n_epoch=40\")\n",
    "sqlExecutor.execute(\n",
    "    \"set table_header=\"\n",
    "    + \"'ss_sold_date_sk|ss_sold_time_sk|ss_item_sk|ss_customer_sk|ss_cdemo_sk|ss_hdemo_sk|\"\n",
    "    + \"ss_addr_sk|ss_store_sk|ss_promo_sk|ss_ticket_number|ss_quantity|ss_wholesale_cost|\"\n",
    "    + \"ss_list_price|ss_sales_price|ss_ext_discount_amt|ss_ext_sales_price|\"\n",
    "    + \"ss_ext_wholesale_cost|ss_ext_list_price|ss_ext_tax|ss_coupon_amt|ss_net_paid|\"\n",
    "    + \"ss_net_paid_inc_tax|ss_net_profit|none'\"\n",
    ")"
   ]
  },
  {
   "cell_type": "markdown",
   "id": "reduced-danish",
   "metadata": {},
   "source": [
    "## Enable Plotting"
   ]
  },
  {
   "cell_type": "code",
   "execution_count": 3,
   "id": "thermal-baghdad",
   "metadata": {},
   "outputs": [
    {
     "name": "stdout",
     "output_type": "stream",
     "text": [
      "OK, plot is updated.\n"
     ]
    }
   ],
   "source": [
    "sqlExecutor.execute(\"set plot='True'\")"
   ]
  },
  {
   "cell_type": "markdown",
   "id": "possible-injection",
   "metadata": {},
   "source": [
    "## Model Training"
   ]
  },
  {
   "cell_type": "code",
   "execution_count": 4,
   "id": "unlike-platform",
   "metadata": {},
   "outputs": [
    {
     "name": "stdout",
     "output_type": "stream",
     "text": [
      "OK. model is dropped.\n",
      "Start creating model test_plot_range_no_equal_gb1\n",
      "Reading data file...\n",
      "get frequency info from data....\n",
      "Starting training kde models for model test_plot_range_no_equal_gb1\n",
      "training regression...\n",
      "********************************************************************************\n",
      "finish training embedding.\n",
      "embedding inference...\n",
      "start normalizing data...\n",
      "xpoints are saved.\n",
      "xpoints are saved.\n",
      "transform data from MDN training...\n",
      "finish transforming data from MDN training...\n",
      "< Epoch 0\n",
      "< Epoch 1\n",
      "< Epoch 2\n",
      "< Epoch 3\n",
      "< Epoch 4\n",
      "< Epoch 5\n",
      "< Epoch 6\n",
      "< Epoch 7\n",
      "< Epoch 8\n",
      "< Epoch 9\n",
      "< Epoch 10\n",
      "< Epoch 11\n",
      "< Epoch 12\n",
      "< Epoch 13\n",
      "< Epoch 14\n",
      "< Epoch 15\n",
      "< Epoch 16\n",
      "< Epoch 17\n",
      "< Epoch 18\n",
      "< Epoch 19\n",
      "< Epoch 20\n",
      "< Epoch 21\n",
      "< Epoch 22\n",
      "< Epoch 23\n",
      "< Epoch 24\n",
      "< Epoch 25\n",
      "< Epoch 26\n",
      "< Epoch 27\n",
      "< Epoch 28\n",
      "< Epoch 29\n",
      "< Epoch 30\n",
      "< Epoch 31\n",
      "< Epoch 32\n",
      "< Epoch 33\n",
      "< Epoch 34\n",
      "< Epoch 35\n",
      "< Epoch 36\n",
      "< Epoch 37\n",
      "< Epoch 38\n",
      "< Epoch 39\n",
      "Finish regression training.\n",
      "training density...\n",
      "********************************************************************************\n",
      "finish training embedding.\n",
      "< Epoch 0\n",
      "< Epoch 1\n",
      "< Epoch 2\n",
      "< Epoch 3\n",
      "< Epoch 4\n",
      "< Epoch 5\n",
      "< Epoch 6\n",
      "< Epoch 7\n",
      "< Epoch 8\n",
      "< Epoch 9\n",
      "< Epoch 10\n",
      "< Epoch 11\n",
      "< Epoch 12\n",
      "< Epoch 13\n",
      "< Epoch 14\n",
      "< Epoch 15\n",
      "< Epoch 16\n",
      "< Epoch 17\n",
      "< Epoch 18\n",
      "< Epoch 19\n",
      "< Epoch 20\n",
      "< Epoch 21\n",
      "< Epoch 22\n",
      "< Epoch 23\n",
      "< Epoch 24\n",
      "< Epoch 25\n",
      "< Epoch 26\n",
      "< Epoch 27\n",
      "< Epoch 28\n",
      "< Epoch 29\n",
      "< Epoch 30\n",
      "< Epoch 31\n",
      "< Epoch 32\n",
      "< Epoch 33\n",
      "< Epoch 34\n",
      "< Epoch 35\n",
      "< Epoch 36\n",
      "< Epoch 37\n",
      "< Epoch 38\n",
      "< Epoch 39\n",
      "finish mdn training...\n"
     ]
    },
    {
     "data": {
      "application/vnd.jupyter.widget-view+json": {
       "model_id": "1d35e1c3e8954e88a4c69c2e2924abc2",
       "version_major": 2,
       "version_minor": 0
      },
      "text/plain": [
       "Canvas(toolbar=Toolbar(toolitems=[('Home', 'Reset original view', 'home', 'home'), ('Back', 'Back to previous …"
      ]
     },
     "metadata": {},
     "output_type": "display_data"
    },
    {
     "name": "stdout",
     "output_type": "stream",
     "text": [
      "time cost: 18s.\n",
      "------------------------\n"
     ]
    }
   ],
   "source": [
    "sqlExecutor.execute(\"drop table test_plot_range_no_equal_gb1\")\n",
    "sqlExecutor.execute(\n",
    "    \"create table test_plot_range_no_equal_gb1(ss_sales_price real, ss_sold_date_sk real) from '/home/quincy/Documents/workspace/data/tpcds/100g/ss_100g_2m.csv' GROUP BY ss_store_sk method uniform size 20000\"\n",
    ")"
   ]
  },
  {
   "cell_type": "markdown",
   "id": "plastic-contrary",
   "metadata": {},
   "source": [
    "##  Query Serving"
   ]
  },
  {
   "cell_type": "code",
   "execution_count": 5,
   "id": "incorrect-airfare",
   "metadata": {
    "tags": []
   },
   "outputs": [
    {
     "name": "stdout",
     "output_type": "stream",
     "text": [
      "OK\n"
     ]
    },
    {
     "data": {
      "application/vnd.jupyter.widget-view+json": {
       "model_id": "60c4f27bca4c442a9b518a658f5b3ea0",
       "version_major": 2,
       "version_minor": 0
      },
      "text/plain": [
       "Canvas(toolbar=Toolbar(toolitems=[('Home', 'Reset original view', 'home', 'home'), ('Back', 'Back to previous …"
      ]
     },
     "metadata": {},
     "output_type": "display_data"
    },
    {
     "name": "stdout",
     "output_type": "stream",
     "text": [
      "  0             1\n",
      "    134294.169958\n",
      "  1  50121.731680\n",
      " 10  78523.236190\n",
      "100  71822.469726\n",
      "103  76271.892232\n",
      "104 121751.781124\n",
      "106  64029.105736\n",
      "109  96759.865931\n",
      "110  54544.945384\n",
      "112  85653.264993\n",
      "115  92673.074319\n",
      "116  71338.891252\n",
      "118  84610.905271\n",
      "121  72461.204398\n",
      "122  49725.115868\n",
      "124  75733.804549\n",
      "127  70335.291732\n",
      "128  84935.305406\n",
      " 13  68157.625497\n",
      "130  83427.559790\n",
      "133  53460.853448\n",
      "134  89829.270055\n",
      "136  81167.369969\n",
      "139  93399.079148\n",
      " 14  64631.456101\n",
      "140  91013.277680\n",
      "142  80670.875593\n",
      "145  73697.190293\n",
      "146  54439.636448\n",
      "148  62532.960952\n",
      "151  73545.558630\n",
      "152  73269.934341\n",
      "154  86692.002581\n",
      "157  92266.105094\n",
      "158  58032.641038\n",
      " 16  96507.799563\n",
      "160 100413.944409\n",
      "163  75461.376841\n",
      "164  63240.993944\n",
      "166  76042.795990\n",
      "169  98047.985286\n",
      "170  92543.151824\n",
      "172  91659.961716\n",
      "175  85677.094816\n",
      "176  90401.883517\n",
      "178 105256.553749\n",
      "181  54457.829328\n",
      "182 114809.258023\n",
      "184 113029.118372\n",
      "187  65872.442132\n",
      "188  58224.065192\n",
      " 19  68121.691927\n",
      "190  96236.206975\n",
      "193  69829.826647\n",
      "194  70478.302026\n",
      "196  53904.900896\n",
      "199  71414.153638\n",
      "  2  42988.082106\n",
      " 20  52261.978129\n",
      "200  49888.445084\n",
      "202  85656.719944\n",
      "205  71146.178323\n",
      "206  59403.907087\n",
      "208  61279.871856\n",
      "211  69710.398177\n",
      "212  53159.948447\n",
      "214  86424.156919\n",
      "217  75298.541270\n",
      "218  85608.025446\n",
      " 22  76549.609585\n",
      "220 112481.367596\n",
      "223  67938.324881\n",
      "224  66653.229244\n",
      "226  86737.892395\n",
      "229  54101.828808\n",
      "230  62960.856453\n",
      "232  67455.136440\n",
      "235  97128.228883\n",
      "236  70516.243465\n",
      "238  86046.242362\n",
      "241  83991.456941\n",
      "242  85429.125587\n",
      "244 105019.719618\n",
      "247 103564.784678\n",
      "248  85838.873126\n",
      " 25  46996.042124\n",
      "250  83458.504751\n",
      "253  80184.609199\n",
      "254  43101.844618\n",
      "256  98577.276594\n",
      "259  54078.656749\n",
      " 26  66225.367776\n",
      "260 104029.491084\n",
      "262  55197.900852\n",
      "265  54572.748246\n",
      "266  50169.833676\n",
      "268  70417.248347\n",
      "271  68588.059606\n",
      "272  61293.081207\n",
      "274  80583.236931\n",
      "277  63698.764495\n",
      "278  80945.193867\n",
      " 28  77820.181385\n",
      "280  27888.361906\n",
      "283  52862.272996\n",
      "284  52211.869358\n",
      "286  59722.183902\n",
      "289  50979.382117\n",
      "290  76449.800469\n",
      "292 113096.725749\n",
      "295  46965.650541\n",
      "296  52232.972241\n",
      "298  68153.689114\n",
      "301  95913.756518\n",
      "302 122116.511257\n",
      "304  68759.044933\n",
      "307  75527.029130\n",
      "308  46785.412727\n",
      " 31  62971.610589\n",
      "310  98896.911686\n",
      "313  79017.928282\n",
      "314  47360.661693\n",
      "316  77349.968405\n",
      "319  52968.068852\n",
      " 32  56080.819367\n",
      "320  80702.374878\n",
      "322  73157.781759\n",
      "325  66667.590134\n",
      "326  85500.035054\n",
      "328  64918.730969\n",
      "331  48153.014655\n",
      "332  79844.172466\n",
      "334  77904.912174\n",
      "337  65601.135667\n",
      "338  96813.047975\n",
      " 34  60961.838502\n",
      "340 106198.738327\n",
      "343 104639.578048\n",
      "344  73887.658402\n",
      "346  67006.031390\n",
      "349  48904.961885\n",
      "350  97881.086953\n",
      "352  64496.871795\n",
      "355  78239.675746\n",
      "356  91363.814754\n",
      "358  81837.707165\n",
      "361  61973.150440\n",
      "362  65312.283318\n",
      "364  90206.993112\n",
      "367  52532.845119\n",
      "368  72920.097644\n",
      " 37  68592.943705\n",
      "370 108981.830808\n",
      "373 115467.434646\n",
      "374  84685.085213\n",
      "376  80105.346577\n",
      "379  80146.743198\n",
      " 38  62339.880626\n",
      "380  94062.071541\n",
      "382  79662.351266\n",
      "385 109859.044161\n",
      "386  60793.240926\n",
      "388  85310.441632\n",
      "391  75481.970884\n",
      "392  59155.478343\n",
      "394  57816.681226\n",
      "397  55342.535094\n",
      "398  61509.845709\n",
      "  4  85819.122998\n",
      " 40  60614.053288\n",
      "400  56161.278896\n",
      " 43  73705.714024\n",
      " 44  81125.900964\n",
      " 46  82051.079005\n",
      " 49  92870.680053\n",
      " 50  53606.045585\n",
      " 52  78397.311998\n",
      " 55  76858.980177\n",
      " 56  62447.358973\n",
      " 58  77142.138090\n",
      " 61  67321.571612\n",
      " 62  90376.030884\n",
      " 64  61475.264012\n",
      " 67  85171.895929\n",
      " 68  91094.000187\n",
      "  7  71777.793736\n",
      " 70  90768.448120\n",
      " 73  78752.351758\n",
      " 74  65978.535434\n",
      " 76  96467.391895\n",
      " 79  52047.212107\n",
      "  8 108952.655328\n",
      " 80  83400.879236\n",
      " 82 100075.193901\n",
      " 85  48407.226162\n",
      " 86  96098.137674\n",
      " 88  74521.422440\n",
      " 91  83610.740097\n",
      " 92  52351.363899\n",
      " 94  78977.381259\n",
      " 97  83793.450044\n",
      " 98  66706.778286\n",
      "Time cost: 0.1385s.\n",
      "------------------------\n"
     ]
    }
   ],
   "source": [
    "# %matplotlib widget\n",
    "predictions = sqlExecutor.execute(\n",
    "            \"select ss_store_sk,sum(ss_sales_price)  from test_plot_range_no_equal_gb1 where   2451119  <=ss_sold_date_sk<= 2451483  group by ss_store_sk\"\n",
    "        )\n",
    "\n",
    "# sqlExecutor.execute(\"drop table test_plot_range_no_equal_gb1\")"
   ]
  },
  {
   "cell_type": "markdown",
   "id": "protected-cheese",
   "metadata": {},
   "source": [
    "## Terminal Cmd"
   ]
  },
  {
   "cell_type": "raw",
   "id": "hungry-candy",
   "metadata": {},
   "source": [
    "drop table plot1;\n",
    "set csv_split_char='|';\n",
    "set encoder='embedding';\n",
    "set n_epoch=30;\n",
    "set plot='True';\n",
    "set table_header=\"ss_sold_date_sk|ss_sold_time_sk|ss_item_sk|ss_customer_sk|ss_cdemo_sk|ss_hdemo_sk|ss_addr_sk|ss_store_sk|ss_promo_sk|ss_ticket_number|ss_quantity|ss_wholesale_cost|ss_list_price|ss_sales_price|ss_ext_discount_amt|ss_ext_sales_price|ss_ext_wholesale_cost|ss_ext_list_price|ss_ext_tax|ss_coupon_amt|ss_net_paid|ss_net_paid_inc_tax|ss_net_profit|none\";\n",
    "create table plot1(ss_sales_price real, ss_sold_date_sk real) from '/home/quincy/Documents/workspace/data/tpcds/100g/ss_100g_2m.csv' GROUP BY ss_store_sk method uniform size 20000;\n",
    "select ss_store_sk,sum(ss_sales_price)  from plot1 where   2451119  <=ss_sold_date_sk<= 2451483  group by ss_store_sk;\n"
   ]
  }
 ],
 "metadata": {
  "kernelspec": {
   "display_name": "Python 3",
   "language": "python",
   "name": "python3"
  },
  "language_info": {
   "codemirror_mode": {
    "name": "ipython",
    "version": 3
   },
   "file_extension": ".py",
   "mimetype": "text/x-python",
   "name": "python",
   "nbconvert_exporter": "python",
   "pygments_lexer": "ipython3",
   "version": "3.7.9"
  }
 },
 "nbformat": 4,
 "nbformat_minor": 5
}
