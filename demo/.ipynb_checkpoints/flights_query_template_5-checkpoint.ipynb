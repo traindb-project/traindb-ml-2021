{
 "cells": [
  {
   "cell_type": "markdown",
   "id": "lonely-azerbaijan",
   "metadata": {},
   "source": [
    "## For Flights dataset with the following query tempalte:\n",
    "SELECT unique_carrier, AF(dep_delay) \n",
    "\n",
    "FROM flights\n",
    "\n",
    "WHERE distance BETWEEN 1000 AND 1200 \n",
    "\n",
    "AND origin_state_abr='LA'  \n",
    "\n",
    "GROUP BY unique_carrier"
   ]
  },
  {
   "cell_type": "code",
   "execution_count": 1,
   "id": "sapphire-check",
   "metadata": {},
   "outputs": [],
   "source": [
    "from dbestclient.executor.executor import SqlExecutor"
   ]
  },
  {
   "cell_type": "markdown",
   "id": "dedicated-devil",
   "metadata": {},
   "source": [
    "## Parameter Initialization"
   ]
  },
  {
   "cell_type": "code",
   "execution_count": 2,
   "id": "progressive-citizen",
   "metadata": {},
   "outputs": [
    {
     "name": "stdout",
     "output_type": "stream",
     "text": [
      "Local mode is on, as no slaves are provided.\n",
      "start loading pre-existing models.\n",
      "Loaded 4 models. time cost  0.284639 s\n",
      "OK, n_mdn_layer_node_reg is updated.\n",
      "OK, n_mdn_layer_node_density is updated.\n",
      "OK, n_jobs is updated.\n",
      "OK, n_hidden_layer is updated.\n",
      "OK, n_epoch is updated.\n",
      "OK, n_gaussians_reg is updated.\n",
      "OK, n_gaussians_density is updated.\n",
      "OK, csv_split_char is updated.\n",
      "OK, table_header is updated.\n"
     ]
    }
   ],
   "source": [
    "sqlExecutor = SqlExecutor()\n",
    "sqlExecutor.execute(\"set n_mdn_layer_node_reg=10\")          # \n",
    "sqlExecutor.execute(\"set n_mdn_layer_node_density=15\")      # \n",
    "sqlExecutor.execute(\"set n_jobs=1\")                         # \n",
    "sqlExecutor.execute(\"set n_hidden_layer=1\")                 # \n",
    "sqlExecutor.execute(\"set n_epoch=20\")                       # \n",
    "sqlExecutor.execute(\"set n_gaussians_reg=8\")                # \n",
    "sqlExecutor.execute(\"set n_gaussians_density=10\")           # \n",
    "sqlExecutor.execute(\"set csv_split_char=','\")\n",
    "sqlExecutor.execute(\"set table_header=\" +\n",
    "                      \"'year_date,unique_carrier,origin,origin_state_abr,dest,dest_state_abr,dep_delay,taxi_out,taxi_in,arr_delay,air_time,distance'\")"
   ]
  },
  {
   "cell_type": "markdown",
   "id": "static-brass",
   "metadata": {},
   "source": [
    "## Model Creation"
   ]
  },
  {
   "cell_type": "code",
   "execution_count": 3,
   "id": "disturbed-transcription",
   "metadata": {},
   "outputs": [
    {
     "name": "stdout",
     "output_type": "stream",
     "text": [
      "Start creating model template5\n",
      "The given table is treated as a uniform sample, and it is obtained with sampling rate 0.001\n",
      "Reading data file...\n",
      "get frequency info from data....\n",
      "fit MdnQueryEngineXCategoricalOneModel...\n",
      "training density...\n",
      "finish training embedding.\n",
      "< Epoch 0\n",
      "< Epoch 1\n",
      "< Epoch 2\n",
      "< Epoch 3\n",
      "< Epoch 4\n",
      "< Epoch 5\n",
      "< Epoch 6\n",
      "< Epoch 7\n",
      "< Epoch 8\n",
      "< Epoch 9\n",
      "< Epoch 10\n",
      "< Epoch 11\n",
      "< Epoch 12\n",
      "< Epoch 13\n",
      "< Epoch 14\n",
      "< Epoch 15\n",
      "< Epoch 16\n",
      "< Epoch 17\n",
      "< Epoch 18\n",
      "< Epoch 19\n",
      "finish mdn training...\n",
      "training regression...\n",
      "finish training embedding.\n",
      "embedding inference...\n",
      "start normalizing data...\n",
      "transform data from MDN training...\n",
      "finish transforming data from MDN training...\n",
      "< Epoch 0\n",
      "< Epoch 1\n",
      "< Epoch 2\n",
      "< Epoch 3\n",
      "< Epoch 4\n",
      "< Epoch 5\n",
      "< Epoch 6\n",
      "< Epoch 7\n",
      "< Epoch 8\n",
      "< Epoch 9\n",
      "< Epoch 10\n",
      "< Epoch 11\n",
      "< Epoch 12\n",
      "< Epoch 13\n",
      "< Epoch 14\n",
      "< Epoch 15\n",
      "< Epoch 16\n",
      "< Epoch 17\n",
      "< Epoch 18\n",
      "< Epoch 19\n",
      "Finish regression training.\n",
      "time cost: 430s.\n",
      "------------------------\n"
     ]
    }
   ],
   "source": [
    "# sqlExecutor.execute(\"drop table template5\")  # drop the model\n",
    "sqlExecutor.execute(\n",
    "    \"create table template5(dep_delay real, distance real,origin_state_abr categorical) from '/home/quincy/Documents/workspace/data/flights/flight_1m.csv' GROUP BY unique_carrier method uniform size 0.001 \") \n"
   ]
  },
  {
   "cell_type": "markdown",
   "id": "british-cherry",
   "metadata": {},
   "source": [
    "## Query Serving"
   ]
  },
  {
   "cell_type": "code",
   "execution_count": 6,
   "id": "fleet-rates",
   "metadata": {},
   "outputs": [
    {
     "name": "stdout",
     "output_type": "stream",
     "text": [
      "OK\n",
      "        0           1\n",
      "    9E,LA 1206.414211\n",
      "    AA,LA 1206.447441\n",
      "    AQ,LA 1206.316881\n",
      "    AS,LA 1206.448448\n",
      "    B6,LA 1206.397555\n",
      "    CO,LA 1206.387241\n",
      "    DH,LA 1206.572376\n",
      "    DL,LA 1206.398092\n",
      "    EV,LA 1206.344478\n",
      "    F9,LA 1206.571358\n",
      "    FL,LA 1206.474904\n",
      "    HA,LA 1206.531414\n",
      "    HP,LA 1206.337871\n",
      "    MQ,LA 1206.488969\n",
      "    NK,LA 1206.678322\n",
      "    NW,LA 1206.411467\n",
      "OH (1),LA 1206.414877\n",
      "    OO,LA 1206.303849\n",
      "    TW,LA 1206.444148\n",
      "    TZ,LA 1206.627812\n",
      "    UA,LA 1206.383681\n",
      "    US,LA 1206.429333\n",
      "    VX,LA 1206.332781\n",
      "    WN,LA 1206.444382\n",
      "    XE,LA 1206.422698\n",
      "    YV,LA 1206.444927\n",
      "Time cost: 0.0306s.\n",
      "------------------------\n"
     ]
    }
   ],
   "source": [
    "predictions = sqlExecutor.execute(\n",
    "            \"select unique_carrier, avg(dep_delay)  from template5 where   1000  <=distance<= 1200 and  origin_state_abr='LA'  group by unique_carrier\"\n",
    "        )\n",
    "\n",
    "# sqlExecutor.execute(\"drop table template5\")"
   ]
  },
  {
   "cell_type": "markdown",
   "id": "statewide-compensation",
   "metadata": {},
   "source": [
    "## HIVE query\n",
    "SELECT unique_carrier, COUNT(dep_delay),SUM(dep_delay), AVG(dep_delay)  FROM flights WHERE distance BETWEEN 1000 AND 1200  AND origin_state_abr='LA'   GROUP BY unique_carrier"
   ]
  },
  {
   "cell_type": "raw",
   "id": "billion-sucking",
   "metadata": {},
   "source": [
    "Time Cost: 498s"
   ]
  },
  {
   "cell_type": "raw",
   "id": "intermediate-dairy",
   "metadata": {},
   "source": [
    "hive> SELECT unique_carrier, COUNT(dep_delay),SUM(dep_delay), AVG(dep_delay)  FROM flights WHERE distance BETWEEN 1000 AND 1200  AND origin_state_abr='LA'   GROUP BY unique_carrier;\n",
    "WARNING: Hive-on-MR is deprecated in Hive 2 and may not be available in the future versions. Consider using a different execution engine (i.e. spark, tez) or using Hive 1.X releases.\n",
    "Query ID = hduser_20210310231215_fd3ca82b-edd9-4606-bddf-6e91da2bea6b\n",
    "Total jobs = 1\n",
    "Launching Job 1 out of 1\n",
    "Number of reduce tasks not specified. Estimated from input data size: 224\n",
    "In order to change the average load for a reducer (in bytes):\n",
    "  set hive.exec.reducers.bytes.per.reducer=<number>\n",
    "In order to limit the maximum number of reducers:\n",
    "  set hive.exec.reducers.max=<number>\n",
    "In order to set a constant number of reducers:\n",
    "  set mapreduce.job.reduces=<number>\n",
    "Starting Job = job_1586257888433_0314, Tracking URL = http://master:8088/proxy/application_1586257888433_0314/\n",
    "Kill Command = /opt/hadoop292/bin/hadoop job  -kill job_1586257888433_0314\n",
    "Hadoop job information for Stage-1: number of mappers: 214; number of reducers: 224\n",
    "2021-03-10 23:12:41,836 Stage-1 map = 0%,  reduce = 0%\n",
    "2021-03-10 23:20:33,745 Stage-1 map = 100%,  reduce = 100%, Cumulative CPU 6466.4 sec\n",
    "MapReduce Total cumulative CPU time: 0 days 1 hours 47 minutes 46 seconds 400 msec\n",
    "Ended Job = job_1586257888433_0314\n",
    "MapReduce Jobs Launched: \n",
    "Stage-Stage-1: Map: 214  Reduce: 224   Cumulative CPU: 6466.4 sec   HDFS Read: 57224216019 HDFS Write: 23598 SUCCESS\n",
    "Total MapReduce CPU Time Spent: 0 days 1 hours 47 minutes 46 seconds 400 msec\n",
    "OK\n",
    "DH                                                                                                  \t3971\t4788137.399999998\t1205.7762276504652\n",
    "DL                                                                                                  \t95975\t1.1575895680000003E8\t1206.1365647303987\n",
    "EV                                                                                                  \t34035\t4.1062881099999994E7\t1206.4898222418096\n",
    "F9                                                                                                  \t5916\t7132196.000000003\t1205.5774171737664\n",
    "TW                                                                                                  \t10982\t1.32409268E7\t1205.6935712984885\n",
    "MQ                                                                                                  \t39003\t4.703943819999997E7\t1206.0466682050092\n",
    "FL                                                                                                  \t14608\t1.7622019300000004E7\t1206.326622398686\n",
    "TZ                                                                                                  \t1237\t1490529.2999999993\t1204.9549717057391\n",
    "UA                                                                                                  \t72344\t8.725239720000003E7\t1206.076484573704\n",
    "NK                                                                                                  \t1478\t1782778.2999999993\t1206.2099458728007\n",
    "US                                                                                                  \t63588\t7.669369760000001E7\t1206.1033150908977\n",
    "NW                                                                                                  \t41632\t5.020781880000002E7\t1205.9910357417375\n",
    "9E                                                                                                  \t7720\t9318013.800000008\t1206.9966062176177\n",
    "HA                                                                                                  \t5108\t6161658.099999998\t1206.2760571652307\n",
    "AA                                                                                                  \t84448\t1.0186515010000005E8\t1206.247040782494\n",
    "OO                                                                                                  \t45830\t5.527949410000002E7\t1206.185775692778\n",
    "VX                                                                                                  \t1763\t2126155.8000000026\t1205.9874078275682\n",
    "HP                                                                                                  \t13056\t1.5747752600000003E7\t1206.1697763480395\n",
    "AQ                                                                                                  \t815\t984427.1000000001\t1207.8860122699389\n",
    "AS                                                                                                  \t19721\t2.3785714200000014E7\t1206.110957862178\n",
    "B6                                                                                                  \t15646\t1.8878680100000016E7\t1206.613837402532\n",
    "WN                                                                                                  \t133469\t1.6097666200000003E8\t1206.0977605286623\n",
    "XE                                                                                                  \t20138\t2.4297131199999988E7\t1206.531492700367\n",
    "CO                                                                                                  \t33622\t4.0555577299999975E7\t1206.2214413181837\n",
    "OH (1)                                                                                              \t10144\t1.2236402000000004E7\t1206.2699132492116\n",
    "YV                                                                                                  \t9692\t1.1692630299999997E7\t1206.4207903425502\n",
    "Time taken: 498.802 seconds, Fetched: 26 row(s)"
   ]
  }
 ],
 "metadata": {
  "kernelspec": {
   "display_name": "Python 3",
   "language": "python",
   "name": "python3"
  },
  "language_info": {
   "codemirror_mode": {
    "name": "ipython",
    "version": 3
   },
   "file_extension": ".py",
   "mimetype": "text/x-python",
   "name": "python",
   "nbconvert_exporter": "python",
   "pygments_lexer": "ipython3",
   "version": "3.7.9"
  }
 },
 "nbformat": 4,
 "nbformat_minor": 5
}
