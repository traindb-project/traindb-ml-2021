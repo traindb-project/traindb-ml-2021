{
 "cells": [
  {
   "cell_type": "markdown",
   "id": "organic-geology",
   "metadata": {},
   "source": [
    "## For Flights dataset with the following query tempalte:\n",
    "SELECT unique_carrier, AF(dep_delay) \n",
    "\n",
    "FROM flights \n",
    "\n",
    "WHERE distance BETWEEN 300 AND 1000 \n",
    "\n",
    "GROUP BY unique_carrier"
   ]
  },
  {
   "cell_type": "code",
   "execution_count": 8,
   "id": "convinced-polyester",
   "metadata": {},
   "outputs": [],
   "source": [
    "from etrimlclient.executor.executor import SqlExecutor"
   ]
  },
  {
   "cell_type": "markdown",
   "id": "cathedral-camcorder",
   "metadata": {},
   "source": [
    "## Parameter Initialization"
   ]
  },
  {
   "cell_type": "code",
   "execution_count": 9,
   "id": "convinced-unemployment",
   "metadata": {},
   "outputs": [
    {
     "name": "stdout",
     "output_type": "stream",
     "text": [
      "Local mode is on, as no slaves are provided.\n",
      "start loading pre-existing models.\n",
      "Loaded 3 models. time cost  0.278602 s\n",
      "OK, n_mdn_layer_node_reg is updated.\n",
      "OK, n_mdn_layer_node_density is updated.\n",
      "OK, n_jobs is updated.\n",
      "OK, n_hidden_layer is updated.\n",
      "OK, n_epoch is updated.\n",
      "OK, n_gaussians_reg is updated.\n",
      "OK, n_gaussians_density is updated.\n",
      "OK, csv_split_char is updated.\n",
      "OK, table_header is updated.\n"
     ]
    }
   ],
   "source": [
    "sqlExecutor = SqlExecutor()\n",
    "sqlExecutor.execute(\"set n_mdn_layer_node_reg=10\")          # \n",
    "sqlExecutor.execute(\"set n_mdn_layer_node_density=15\")      # \n",
    "sqlExecutor.execute(\"set n_jobs=1\")                         # \n",
    "sqlExecutor.execute(\"set n_hidden_layer=1\")                 # \n",
    "sqlExecutor.execute(\"set n_epoch=20\")                       # \n",
    "sqlExecutor.execute(\"set n_gaussians_reg=8\")                # \n",
    "sqlExecutor.execute(\"set n_gaussians_density=10\")           # \n",
    "sqlExecutor.execute(\"set csv_split_char=','\")\n",
    "sqlExecutor.execute(\"set table_header=\" +\n",
    "                      \"'year_date,unique_carrier,origin,origin_state_abr,dest,dest_state_abr,dep_delay,taxi_out,taxi_in,arr_delay,air_time,distance'\")"
   ]
  },
  {
   "cell_type": "markdown",
   "id": "consecutive-interval",
   "metadata": {},
   "source": [
    "## Model Creation"
   ]
  },
  {
   "cell_type": "code",
   "execution_count": 10,
   "id": "specified-tours",
   "metadata": {},
   "outputs": [
    {
     "name": "stdout",
     "output_type": "stream",
     "text": [
      "Start creating model template4\n",
      "The given table is treated as a uniform sample, and it is obtained with sampling rate 0.001\n",
      "Reading data file...\n",
      "get frequency info from data....\n",
      "Starting training kde models for model template4\n",
      "training regression...\n",
      "********************************************************************************\n",
      "finish training embedding.\n",
      "embedding inference...\n",
      "start normalizing data...\n",
      "transform data from MDN training...\n",
      "finish transforming data from MDN training...\n",
      "< Epoch 0\n",
      "< Epoch 1\n",
      "< Epoch 2\n",
      "< Epoch 3\n",
      "< Epoch 4\n",
      "< Epoch 5\n",
      "< Epoch 6\n",
      "< Epoch 7\n",
      "< Epoch 8\n",
      "< Epoch 9\n",
      "< Epoch 10\n",
      "< Epoch 11\n",
      "< Epoch 12\n",
      "< Epoch 13\n",
      "< Epoch 14\n",
      "< Epoch 15\n",
      "< Epoch 16\n",
      "< Epoch 17\n",
      "< Epoch 18\n",
      "< Epoch 19\n",
      "Finish regression training.\n",
      "training density...\n",
      "********************************************************************************\n",
      "finish training embedding.\n",
      "< Epoch 0\n",
      "< Epoch 1\n",
      "< Epoch 2\n",
      "< Epoch 3\n",
      "< Epoch 4\n",
      "< Epoch 5\n",
      "< Epoch 6\n",
      "< Epoch 7\n",
      "< Epoch 8\n",
      "< Epoch 9\n",
      "< Epoch 10\n",
      "< Epoch 11\n",
      "< Epoch 12\n",
      "< Epoch 13\n",
      "< Epoch 14\n",
      "< Epoch 15\n",
      "< Epoch 16\n",
      "< Epoch 17\n",
      "< Epoch 18\n",
      "< Epoch 19\n",
      "finish mdn training...\n",
      "time cost: 394s.\n",
      "------------------------\n"
     ]
    }
   ],
   "source": [
    "# sqlExecutor.execute(\"drop table template4\")  # drop the model\n",
    "sqlExecutor.execute(\"create table template4(dep_delay real, distance real) from '/home/quincy/Documents/workspace/data/flights/flight_1m.csv' GROUP BY unique_carrier method uniform size 0.001 \")"
   ]
  },
  {
   "cell_type": "markdown",
   "id": "worldwide-current",
   "metadata": {},
   "source": [
    "## Query Serving"
   ]
  },
  {
   "cell_type": "code",
   "execution_count": 17,
   "id": "vanilla-economics",
   "metadata": {},
   "outputs": [
    {
     "name": "stdout",
     "output_type": "stream",
     "text": [
      "OK\n",
      "     0           1\n",
      "    9E 1205.845101\n",
      "    AA 1206.112032\n",
      "    AQ 1206.688233\n",
      "    AS 1206.239917\n",
      "    B6 1206.199499\n",
      "    CO 1205.918254\n",
      "    DH 1205.657872\n",
      "    DL 1206.124379\n",
      "    EV 1206.244838\n",
      "    F9 1206.321264\n",
      "    FL 1206.191810\n",
      "    HA 1205.709171\n",
      "    HP 1206.013984\n",
      "    MQ 1206.278784\n",
      "    NK 1206.657725\n",
      "    NW 1206.207652\n",
      "OH (1) 1206.136098\n",
      "    OO 1206.138138\n",
      "    TW 1206.051687\n",
      "    TZ 1206.210427\n",
      "    UA 1205.969376\n",
      "    US 1206.158301\n",
      "    VX 1206.126230\n",
      "    WN 1206.008183\n",
      "    XE 1206.122352\n",
      "    YV 1206.087589\n",
      "Time cost: 0.0311s.\n",
      "------------------------\n"
     ]
    }
   ],
   "source": [
    "predictions = sqlExecutor.execute(\n",
    "            \"select unique_carrier, avg(dep_delay)   from template4 where   300  <=distance<= 1000  group by unique_carrier\"\n",
    "        )\n",
    "\n",
    "# sqlExecutor.execute(\"drop table template4\")"
   ]
  },
  {
   "cell_type": "markdown",
   "id": "champion-invalid",
   "metadata": {},
   "source": [
    "## HIVE query\n",
    "SELECT unique_carrier, count(dep_delay),sum(dep_delay),avg(dep_delay) FROM flights WHERE distance BETWEEN 300 AND 1000 GROUP BY unique_carrier"
   ]
  },
  {
   "cell_type": "raw",
   "id": "connected-walnut",
   "metadata": {},
   "source": [
    "Time Cost: 526s"
   ]
  },
  {
   "cell_type": "raw",
   "id": "associate-consciousness",
   "metadata": {},
   "source": [
    "ive> SELECT unique_carrier, count(dep_delay),sum(dep_delay),avg(dep_delay) FROM flights WHERE distance BETWEEN 300 AND 1000 GROUP BY unique_carrier;\n",
    "WARNING: Hive-on-MR is deprecated in Hive 2 and may not be available in the future versions. Consider using a different execution engine (i.e. spark, tez) or using Hive 1.X releases.\n",
    "Query ID = hduser_20210310230241_d06fd634-3f0a-4c9f-bf0a-7edc9683e332\n",
    "Total jobs = 1\n",
    "Launching Job 1 out of 1\n",
    "Number of reduce tasks not specified. Estimated from input data size: 224\n",
    "In order to change the average load for a reducer (in bytes):\n",
    "  set hive.exec.reducers.bytes.per.reducer=<number>\n",
    "In order to limit the maximum number of reducers:\n",
    "  set hive.exec.reducers.max=<number>\n",
    "In order to set a constant number of reducers:\n",
    "  set mapreduce.job.reduces=<number>\n",
    "Starting Job = job_1586257888433_0313, Tracking URL = http://master:8088/proxy/application_1586257888433_0313/\n",
    "Kill Command = /opt/hadoop292/bin/hadoop job  -kill job_1586257888433_0313\n",
    "Hadoop job information for Stage-1: number of mappers: 214; number of reducers: 224\n",
    "2021-03-10 23:02:58,185 Stage-1 map = 0%,  reduce = 0%\n",
    "2021-03-10 23:11:21,584 Stage-1 map = 100%,  reduce = 100%, Cumulative CPU 9215.06 sec\n",
    "MapReduce Total cumulative CPU time: 0 days 2 hours 33 minutes 35 seconds 60 msec\n",
    "Ended Job = job_1586257888433_0313\n",
    "MapReduce Jobs Launched: \n",
    "Stage-Stage-1: Map: 214  Reduce: 224   Cumulative CPU: 9215.06 sec   HDFS Read: 57224110481 HDFS Write: 23700 SUCCESS\n",
    "Total MapReduce CPU Time Spent: 0 days 2 hours 33 minutes 35 seconds 60 msec\n",
    "OK\n",
    "DH                                                                                                  \t2780045\t3.3521729005000005E9\t1205.7980717938021\n",
    "DL                                                                                                  \t66158555\t7.977157753419968E10\t1205.7636013090018\n",
    "EV                                                                                                  \t23359774\t2.8166522714000103E10\t1205.7703432404826\n",
    "F9                                                                                                  \t4148301\t5.001822181599999E9\t1205.7519889709063\n",
    "TW                                                                                                  \t7490867\t9.032207794999996E9\t1205.7626700620897\n",
    "MQ                                                                                                  \t27040048\t3.2604201550000095E10\t1205.7745441132388\n",
    "FL                                                                                                  \t10065513\t1.2136674662999985E10\t1205.7681176309627\n",
    "TZ                                                                                                  \t841920\t1.0151719666000001E9\t1205.7819823736224\n",
    "UA                                                                                                  \t49981659\t6.0266318096900154E10\t1205.7686619985975\n",
    "NK                                                                                                  \t1041439\t1.2556978687000005E9\t1205.7334790611842\n",
    "US                                                                                                  \t43741312\t5.274203057190024E10\t1205.771572921732\n",
    "NW                                                                                                  \t28835768\t3.476894079920019E10\t1205.7574051504432\n",
    "9E                                                                                                  \t5351635\t6.4527552205E9\t1205.753983689097\n",
    "HA                                                                                                  \t3487399\t4.2048615805999985E9\t1205.7299955066794\n",
    "AA                                                                                                  \t58179360\t7.015117033949983E10\t1205.7741841694344\n",
    "OO                                                                                                  \t31563895\t3.8058524752600136E10\t1205.7613533627625\n",
    "VX                                                                                                  \t1235718\t1.490022111E9\t1205.7946157618485\n",
    "HP                                                                                                  \t8908687\t1.0741680412399992E10\t1205.753486725933\n",
    "AQ                                                                                                  \t624736\t7.533131446999999E8\t1205.8103658185216\n",
    "AS                                                                                                  \t13641626\t1.6448745966999987E10\t1205.776053895627\n",
    "B6                                                                                                  \t10837050\t1.3066798603099977E10\t1205.7523590921862\n",
    "WN                                                                                                  \t91575849\t1.1041907340099872E11\t1205.7663085493066\n",
    "XE                                                                                                  \t13820996\t1.6664937143999992E10\t1205.7696235495614\n",
    "CO                                                                                                  \t23082243\t2.7831922182700073E10\t1205.771994632414\n",
    "OH (1)                                                                                              \t6936390\t8.363572286699993E9\t1205.7528897164077\n",
    "YV                                                                                                  \t6749486\t8.138256159699995E9\t1205.7593955598982\n",
    "Time taken: 526.732 seconds, Fetched: 26 row(s)\n",
    "hive> \n"
   ]
  }
 ],
 "metadata": {
  "kernelspec": {
   "display_name": "Python 3",
   "language": "python",
   "name": "python3"
  },
  "language_info": {
   "codemirror_mode": {
    "name": "ipython",
    "version": 3
   },
   "file_extension": ".py",
   "mimetype": "text/x-python",
   "name": "python",
   "nbconvert_exporter": "python",
   "pygments_lexer": "ipython3",
   "version": "3.7.9"
  }
 },
 "nbformat": 4,
 "nbformat_minor": 5
}
